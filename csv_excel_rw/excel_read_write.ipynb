{
 "cells": [
  {
   "cell_type": "code",
   "execution_count": 10,
   "id": "12a869a9",
   "metadata": {},
   "outputs": [
    {
     "data": {
      "text/html": [
       "<div>\n",
       "<style scoped>\n",
       "    .dataframe tbody tr th:only-of-type {\n",
       "        vertical-align: middle;\n",
       "    }\n",
       "\n",
       "    .dataframe tbody tr th {\n",
       "        vertical-align: top;\n",
       "    }\n",
       "\n",
       "    .dataframe thead th {\n",
       "        text-align: right;\n",
       "    }\n",
       "</style>\n",
       "<table border=\"1\" class=\"dataframe\">\n",
       "  <thead>\n",
       "    <tr style=\"text-align: right;\">\n",
       "      <th></th>\n",
       "      <th>tickers</th>\n",
       "      <th>eps</th>\n",
       "      <th>revenue</th>\n",
       "      <th>price</th>\n",
       "      <th>people</th>\n",
       "    </tr>\n",
       "  </thead>\n",
       "  <tbody>\n",
       "    <tr>\n",
       "      <th>0</th>\n",
       "      <td>GOOGL</td>\n",
       "      <td>27.82</td>\n",
       "      <td>87.0</td>\n",
       "      <td>845.0</td>\n",
       "      <td>larry page</td>\n",
       "    </tr>\n",
       "    <tr>\n",
       "      <th>1</th>\n",
       "      <td>WMT</td>\n",
       "      <td>4.61</td>\n",
       "      <td>484.0</td>\n",
       "      <td>65.0</td>\n",
       "      <td>Sam Walton</td>\n",
       "    </tr>\n",
       "    <tr>\n",
       "      <th>2</th>\n",
       "      <td>MSFT</td>\n",
       "      <td>-1.00</td>\n",
       "      <td>85.0</td>\n",
       "      <td>64.0</td>\n",
       "      <td>bill gates</td>\n",
       "    </tr>\n",
       "    <tr>\n",
       "      <th>3</th>\n",
       "      <td>RIL</td>\n",
       "      <td>NaN</td>\n",
       "      <td>50.0</td>\n",
       "      <td>1023.0</td>\n",
       "      <td>mukesh ambani</td>\n",
       "    </tr>\n",
       "    <tr>\n",
       "      <th>4</th>\n",
       "      <td>TATA</td>\n",
       "      <td>5.60</td>\n",
       "      <td>NaN</td>\n",
       "      <td>NaN</td>\n",
       "      <td>ratan tata</td>\n",
       "    </tr>\n",
       "  </tbody>\n",
       "</table>\n",
       "</div>"
      ],
      "text/plain": [
       "  tickers    eps  revenue   price         people\n",
       "0   GOOGL  27.82     87.0   845.0     larry page\n",
       "1     WMT   4.61    484.0    65.0     Sam Walton\n",
       "2    MSFT  -1.00     85.0    64.0     bill gates\n",
       "3    RIL     NaN     50.0  1023.0  mukesh ambani\n",
       "4    TATA   5.60      NaN     NaN     ratan tata"
      ]
     },
     "execution_count": 10,
     "metadata": {},
     "output_type": "execute_result"
    }
   ],
   "source": [
    "import pandas as pd\n",
    "\n",
    "def correct_revenue(cell):\n",
    "    #changes revenue value to 0 if the value is < 0\n",
    "    if cell < 0:\n",
    "        return None\n",
    "    return cell\n",
    "\n",
    "def correct_ppl(cell):\n",
    "    if cell == \"n.a.\":\n",
    "        return \"Sam Walton\"\n",
    "    return cell\n",
    "\n",
    "def correct_eps(cell):\n",
    "    if cell == \"not available\":\n",
    "        return None\n",
    "    return cell\n",
    "\n",
    "def correct_price(cell):\n",
    "    if cell == \"n.a.\":\n",
    "        return None\n",
    "    return cell\n",
    "\n",
    "#converter used to convert the messy data to something useful\n",
    "df = pd.read_excel(\"stock_data.xlsx\", converters = \n",
    "                  {\n",
    "                      \"revenue\" : correct_revenue,\n",
    "                      \"eps\" : correct_eps,\n",
    "                      \"price\" : correct_price,\n",
    "                      \"people\" : correct_ppl\n",
    "                  })\n",
    "df"
   ]
  },
  {
   "cell_type": "code",
   "execution_count": 15,
   "id": "36da5ae9",
   "metadata": {},
   "outputs": [],
   "source": [
    "#writing to excel file\n",
    "#startrow -> offset for row\n",
    "#startcol -> offset for column in excel\n",
    "df.to_excel(\"new.xlsx\", sheet_name=\"Stock\", startrow=2, startcol=3, index=False)"
   ]
  },
  {
   "cell_type": "code",
   "execution_count": 17,
   "id": "a3bb70f9",
   "metadata": {},
   "outputs": [],
   "source": [
    "#stroring two different dataframe in two different sheets\n",
    "import numpy as np\n",
    "weather_data = pd.DataFrame({\n",
    "    \"day\": [\"25/12/2023\", \"14/07/2023\", \"21/04/2023\", \"20/01/2023\"],\n",
    "    \"event\": [\"Sunny\", \"Rain\", \"Snow\", \"Rain\"],\n",
    "    \"windspeed\": [2, 6, 7, 8]\n",
    "})\n",
    "\n",
    "stock_data = pd.DataFrame({\n",
    "    \"tickers\" : [\"GOOGL\", \"WMT\", \"MSFT\", \"TATA\"],\n",
    "    \"eps\" : [27.82, 4.61, -1, 5.6],\n",
    "    \"revenue\": [87, 484, 85, np.nan]\n",
    "})\n"
   ]
  },
  {
   "cell_type": "code",
   "execution_count": 20,
   "id": "d4755a4f",
   "metadata": {},
   "outputs": [],
   "source": [
    "with pd.ExcelWriter(\"stock_weather_data.xlsx\") as wr_ob:\n",
    "    weather_data.to_excel(wr_ob, sheet_name=\"weather\")\n",
    "    stock_data.to_excel(wr_ob, sheet_name=\"stock\")"
   ]
  },
  {
   "cell_type": "code",
   "execution_count": null,
   "id": "5009e4aa",
   "metadata": {},
   "outputs": [],
   "source": []
  }
 ],
 "metadata": {
  "kernelspec": {
   "display_name": "Python 3 (ipykernel)",
   "language": "python",
   "name": "python3"
  },
  "language_info": {
   "codemirror_mode": {
    "name": "ipython",
    "version": 3
   },
   "file_extension": ".py",
   "mimetype": "text/x-python",
   "name": "python",
   "nbconvert_exporter": "python",
   "pygments_lexer": "ipython3",
   "version": "3.11.5"
  }
 },
 "nbformat": 4,
 "nbformat_minor": 5
}
